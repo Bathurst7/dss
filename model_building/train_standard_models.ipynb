{
 "cells": [
  {
   "cell_type": "code",
   "execution_count": 1,
   "metadata": {},
   "outputs": [],
   "source": [
    "import pandas as pd"
   ]
  },
  {
   "cell_type": "code",
   "execution_count": 2,
   "metadata": {},
   "outputs": [],
   "source": [
    "data_path = '../final_data.csv'\n",
    "df = pd.read_csv(data_path)"
   ]
  },
  {
   "cell_type": "markdown",
   "metadata": {},
   "source": [
    "## Data preparation:"
   ]
  },
  {
   "cell_type": "markdown",
   "metadata": {},
   "source": [
    "### Splitting data into train and test:"
   ]
  },
  {
   "cell_type": "code",
   "execution_count": 3,
   "metadata": {},
   "outputs": [],
   "source": [
    "def split_data(df, year_split=2022):\n",
    "    \"\"\"\n",
    "    Split the data into training and test sets based on the year column.\n",
    "    \n",
    "    Parameters:\n",
    "    - df: DataFrame containing the full dataset.\n",
    "    - target_column: The name of the target variable column.\n",
    "    - year_split: The year to split on (default is 2022).\n",
    "    \n",
    "    Returns:\n",
    "    - train_data: DataFrame containing the training data.\n",
    "    - test_data: DataFrame containing the test data.\n",
    "    \"\"\"\n",
    "    train_data = df[df['Time'] <= year_split]\n",
    "    test_data = df[df['Time'] > year_split]\n",
    "    \n",
    "    return train_data, test_data"
   ]
  },
  {
   "cell_type": "code",
   "execution_count": 4,
   "metadata": {},
   "outputs": [
    {
     "name": "stdout",
     "output_type": "stream",
     "text": [
      "train_data's shape: (324, 33)\n",
      "test_data's shape: (72, 33)\n"
     ]
    }
   ],
   "source": [
    "train_data, test_data = split_data(df)\n",
    "print(f\"train_data's shape: {train_data.shape}\")\n",
    "print(f\"test_data's shape: {test_data.shape}\")"
   ]
  },
  {
   "cell_type": "markdown",
   "metadata": {},
   "source": [
    "### Scaling data using StandardScaler:"
   ]
  },
  {
   "cell_type": "code",
   "execution_count": 5,
   "metadata": {},
   "outputs": [],
   "source": [
    "import joblib\n",
    "\n",
    "def scale_data(data, scaler_path):\n",
    "    scaler = joblib.load(scaler_path)\n",
    "    \n",
    "    scaled_col = data.drop(['Company name', 'TSR', 'Time'], axis=1)\n",
    "    \n",
    "    data_scaled = scaler.transform(scaled_col)\n",
    "    scaled_df = pd.DataFrame(data_scaled, columns=scaled_col.columns, index=data.index)\n",
    "    final_data_scaled = data[['Company name', 'TSR', 'Time']].join(scaled_df)\n",
    "    \n",
    "    return final_data_scaled"
   ]
  },
  {
   "cell_type": "code",
   "execution_count": 6,
   "metadata": {},
   "outputs": [],
   "source": [
    "scaler_path = './scaler_folder/standard_scaler.joblib'"
   ]
  },
  {
   "cell_type": "code",
   "execution_count": 7,
   "metadata": {},
   "outputs": [],
   "source": [
    "train_data_scaled = scale_data(train_data, scaler_path)\n",
    "test_data_scaled = scale_data(test_data, scaler_path)"
   ]
  },
  {
   "cell_type": "markdown",
   "metadata": {},
   "source": [
    "## Models defining:"
   ]
  },
  {
   "cell_type": "markdown",
   "metadata": {},
   "source": [
    "### Support Vector Regression definition:"
   ]
  },
  {
   "cell_type": "code",
   "execution_count": 8,
   "metadata": {},
   "outputs": [],
   "source": [
    "from sklearn.svm import SVR\n",
    "from sklearn.model_selection import GridSearchCV, TimeSeriesSplit\n",
    "from sklearn.metrics import r2_score\n",
    "# Define\n",
    "def svr(train_data, target_column, feature_columns, n_splits=5, scoring='neg_root_mean_squared_error'):\n",
    "    \n",
    "    param_grid = {\n",
    "        'kernel': ['rbf', 'linear'],  \n",
    "        'C': [0.1, 1, 10, 100],\n",
    "        'epsilon': [0.01, 0.1, 0.2, 0.5],\n",
    "        'gamma': ['scale', 'auto', 0.001, 0.01, 0.1, 1]\n",
    "    }\n",
    "    X_train = train_data[feature_columns]\n",
    "    y_train = train_data[target_column]\n",
    "    \n",
    "    svr = SVR()\n",
    "    tscv = TimeSeriesSplit(n_splits=n_splits)\n",
    "    \n",
    "    grid_search = GridSearchCV(estimator=svr, param_grid=param_grid, cv=tscv, scoring=scoring, n_jobs=-1, verbose=2)\n",
    "    grid_search.fit(X_train, y_train)\n",
    "    \n",
    "    best_params = grid_search.best_params_\n",
    "    best_model = grid_search.best_estimator_\n",
    "    \n",
    "    # Calculate R² on the training data\n",
    "    y_train_pred = best_model.predict(X_train)\n",
    "    r2_train = r2_score(y_train, y_train_pred)\n",
    "    return best_model, best_params, r2_train"
   ]
  },
  {
   "cell_type": "markdown",
   "metadata": {},
   "source": [
    "### Recurrent Support Vector Machine Regression definition:"
   ]
  },
  {
   "cell_type": "code",
   "execution_count": 9,
   "metadata": {},
   "outputs": [],
   "source": [
    "import tensorflow as tf\n",
    "from tensorflow.keras.models import Sequential\n",
    "from tensorflow.keras.layers import LSTM, Dense\n",
    "from tensorflow.keras.optimizers import Adam\n",
    "\n",
    "# Use rnn model to generate representations for each timestep\n",
    "def create_rnn(input_shape):\n",
    "    model = Sequential()\n",
    "    model.add(LSTM(units=50, activation='relu', return_sequences=False, input_shape=input_shape))\n",
    "    model.add(Dense(units=1, activation='linear')) \n",
    "    model.compile(optimizer=Adam(learning_rate=0.001), loss='mse')\n",
    "    return model\n",
    "\n"
   ]
  },
  {
   "cell_type": "code",
   "execution_count": 10,
   "metadata": {},
   "outputs": [],
   "source": [
    "def rsvm(train_data, target_column, feature_columns, n_splits=5, scoring='neg_root_mean_squared_error'):\n",
    "    # Convert data for sequence input\n",
    "    X_train_seq = train_data[feature_columns].values.reshape((train_data.shape[0], 1, len(feature_columns)))\n",
    "    y_train_seq = train_data[target_column].values\n",
    "    \n",
    "    # Train RNN\n",
    "    rnn = create_rnn(input_shape=(X_train_seq.shape[1], X_train_seq.shape[2]))\n",
    "    rnn_model = rnn.fit(X_train_seq, y_train_seq, epochs=3, batch_size=16, verbose=2)\n",
    "\n",
    "    # Extract representations from rnn model -> use as input for svr\n",
    "    train_features = rnn.predict(X_train_seq)  \n",
    "    print(\"Train features for SVR shape:\", train_features.shape)\n",
    "    \n",
    "    # Set up params for svr\n",
    "    param_grid = {\n",
    "        'kernel': ['rbf', 'linear'],  \n",
    "        'C': [0.1, 1, 10, 100],\n",
    "        'epsilon': [0.01, 0.1, 0.2, 0.5],\n",
    "        'gamma': ['scale', 'auto', 0.001, 0.01, 0.1, 1]\n",
    "    }\n",
    "    svr = SVR()\n",
    "    tscv = TimeSeriesSplit(n_splits=n_splits)\n",
    "    \n",
    "    grid_search = GridSearchCV(estimator=svr, param_grid=param_grid, cv=tscv, scoring=scoring, n_jobs=-1, verbose=2)\n",
    "    grid_search.fit(train_features, y_train_seq)\n",
    "    \n",
    "    best_params = grid_search.best_params_\n",
    "    best_model = grid_search.best_estimator_\n",
    "\n",
    "    # Calculate R² on training data\n",
    "    y_train_pred = best_model.predict(train_features)\n",
    "    r2_train = r2_score(y_train_seq, y_train_pred)\n",
    "\n",
    "    return best_model, best_params, r2_train, rnn\n"
   ]
  },
  {
   "cell_type": "markdown",
   "metadata": {},
   "source": [
    "## Model Evaluation definition:"
   ]
  },
  {
   "cell_type": "code",
   "execution_count": 11,
   "metadata": {},
   "outputs": [],
   "source": [
    "from sklearn.metrics import mean_squared_error\n",
    "import matplotlib.pyplot as plt\n",
    "import seaborn as sns\n",
    "import numpy as np\n",
    "\n",
    "def evaluate_model(model, test_data, target_column, feature_columns):\n",
    "    X_test = test_data[feature_columns]\n",
    "    y_test = test_data[target_column]\n",
    "    y_pred = model.predict(X_test)\n",
    "\n",
    "    rmse = mean_squared_error(y_test, y_pred, squared=False)\n",
    "\n",
    "    return rmse, f\"The RMSE of the {model} is {rmse}\""
   ]
  },
  {
   "cell_type": "code",
   "execution_count": 12,
   "metadata": {},
   "outputs": [],
   "source": [
    "def evaluate_rsvm_model(model, rnn, test_data, target_column, feature_columns):\n",
    "    # Preprocess the test data to match the training format\n",
    "    X_test_seq = test_data[feature_columns].values.reshape((test_data.shape[0], 1, len(feature_columns)))\n",
    "    y_test = test_data[target_column].values\n",
    "    \n",
    "    # Get features from the RNN model\n",
    "    test_features = rnn.predict(X_test_seq)  # Using the trained rnn model to get features\n",
    "    \n",
    "    # Evaluate the SVR model using the test features\n",
    "    y_pred = model.predict(test_features)\n",
    "    \n",
    "    rmse = mean_squared_error(y_test, y_pred, squared=False)\n",
    "    return rmse, f\"The RMSE of the {model} is {rmse}\"\n"
   ]
  },
  {
   "cell_type": "markdown",
   "metadata": {},
   "source": [
    "### Model's dumping:"
   ]
  },
  {
   "cell_type": "code",
   "execution_count": 16,
   "metadata": {},
   "outputs": [],
   "source": [
    "import joblib\n",
    "def save_file(scaler, filename):\n",
    "    joblib.dump(scaler, filename)\n",
    "    return f\"Saving {filename} successfully executed\""
   ]
  },
  {
   "cell_type": "markdown",
   "metadata": {},
   "source": [
    "## Model training:"
   ]
  },
  {
   "cell_type": "code",
   "execution_count": 13,
   "metadata": {},
   "outputs": [],
   "source": [
    "feature_columns = [col for col in train_data_scaled.columns if col != \"TSR\"]"
   ]
  },
  {
   "cell_type": "markdown",
   "metadata": {},
   "source": [
    "### Support Vector Regression:"
   ]
  },
  {
   "cell_type": "code",
   "execution_count": 18,
   "metadata": {},
   "outputs": [
    {
     "name": "stdout",
     "output_type": "stream",
     "text": [
      "Fitting 5 folds for each of 192 candidates, totalling 960 fits\n",
      "\n",
      " Best Hyperparameters: {'C': 1, 'epsilon': 0.1, 'gamma': 0.001, 'kernel': 'rbf'}\n",
      "\n",
      " R2 on Train-set: -0.001394812972826065\n",
      "\n",
      " Root Mean Squared Error (RMSE) on Test Set: (0.09091483235003991, 'The RMSE of the SVR(C=1, gamma=0.001) is 0.09091483235003991')\n"
     ]
    },
    {
     "name": "stderr",
     "output_type": "stream",
     "text": [
      "d:\\Probability\\envs\\deployment\\Lib\\site-packages\\sklearn\\metrics\\_regression.py:483: FutureWarning: 'squared' is deprecated in version 1.4 and will be removed in 1.6. To calculate the root mean squared error, use the function'root_mean_squared_error'.\n",
      "  warnings.warn(\n"
     ]
    }
   ],
   "source": [
    "best_model, best_params, r2_train = svr(train_data_scaled, target_column=\"TSR\", feature_columns=feature_columns)\n",
    "# evaluation\n",
    "rmse = evaluate_model(best_model, test_data_scaled, target_column=\"TSR\", feature_columns=feature_columns)\n",
    "\n",
    "print(f\"\\n Best Hyperparameters: {best_params}\"),\n",
    "print(f\"\\n R2 on Train-set: {r2_train}\"),\n",
    "print(f\"\\n Root Mean Squared Error (RMSE) on Test Set: {rmse}\")"
   ]
  },
  {
   "cell_type": "code",
   "execution_count": 23,
   "metadata": {},
   "outputs": [
    {
     "data": {
      "text/plain": [
       "'Saving ./model_folder/svr.joblib successfully executed'"
      ]
     },
     "execution_count": 23,
     "metadata": {},
     "output_type": "execute_result"
    }
   ],
   "source": [
    "svr_path = \"./model_folder/svr.joblib\"\n",
    "save_file(best_model, svr_path)"
   ]
  },
  {
   "cell_type": "markdown",
   "metadata": {},
   "source": [
    "### Recurrent Support Vector Machine Regression:"
   ]
  },
  {
   "cell_type": "code",
   "execution_count": 14,
   "metadata": {},
   "outputs": [
    {
     "name": "stdout",
     "output_type": "stream",
     "text": [
      "Epoch 1/3\n"
     ]
    },
    {
     "name": "stderr",
     "output_type": "stream",
     "text": [
      "d:\\Probability\\envs\\deployment\\Lib\\site-packages\\keras\\src\\layers\\rnn\\rnn.py:200: UserWarning: Do not pass an `input_shape`/`input_dim` argument to a layer. When using Sequential models, prefer using an `Input(shape)` object as the first layer in the model instead.\n",
      "  super().__init__(**kwargs)\n"
     ]
    },
    {
     "name": "stdout",
     "output_type": "stream",
     "text": [
      "21/21 - 2s - 104ms/step - loss: 451.3327\n",
      "Epoch 2/3\n",
      "21/21 - 0s - 5ms/step - loss: 14.9226\n",
      "Epoch 3/3\n",
      "21/21 - 0s - 5ms/step - loss: 10.9368\n",
      "\u001b[1m11/11\u001b[0m \u001b[32m━━━━━━━━━━━━━━━━━━━━\u001b[0m\u001b[37m\u001b[0m \u001b[1m0s\u001b[0m 19ms/step\n",
      "Train features for SVR shape: (324, 1)\n",
      "Fitting 5 folds for each of 192 candidates, totalling 960 fits\n",
      "\u001b[1m3/3\u001b[0m \u001b[32m━━━━━━━━━━━━━━━━━━━━\u001b[0m\u001b[37m\u001b[0m \u001b[1m0s\u001b[0m 17ms/step\n",
      "\n",
      " Best Hyperparameters: {'C': 100, 'epsilon': 0.1, 'gamma': 0.1, 'kernel': 'rbf'}\n",
      "\n",
      " R2 on Train-set: -0.001613857272398933\n",
      "\n",
      " Root Mean Squared Error (RMSE) on Test Set: 0.09182651751960685\n",
      "The RMSE of the SVR(C=100, gamma=0.1) is 0.09182651751960685\n"
     ]
    },
    {
     "name": "stderr",
     "output_type": "stream",
     "text": [
      "d:\\Probability\\envs\\deployment\\Lib\\site-packages\\sklearn\\metrics\\_regression.py:483: FutureWarning: 'squared' is deprecated in version 1.4 and will be removed in 1.6. To calculate the root mean squared error, use the function'root_mean_squared_error'.\n",
      "  warnings.warn(\n"
     ]
    }
   ],
   "source": [
    "best_model, best_params, r2_train, rnn_model = rsvm(train_data_scaled, target_column=\"TSR\", feature_columns=feature_columns)\n",
    "\n",
    "# Evaluation\n",
    "rmse, rmse_message = evaluate_rsvm_model(best_model, rnn_model, test_data_scaled, target_column=\"TSR\", feature_columns=feature_columns)\n",
    "\n",
    "# Output results\n",
    "print(f\"\\n Best Hyperparameters: {best_params}\")\n",
    "print(f\"\\n R2 on Train-set: {r2_train}\")\n",
    "print(f\"\\n Root Mean Squared Error (RMSE) on Test Set: {rmse}\")\n",
    "print(rmse_message)"
   ]
  },
  {
   "cell_type": "code",
   "execution_count": 17,
   "metadata": {},
   "outputs": [
    {
     "data": {
      "text/plain": [
       "'Saving ./model_folder/rsvm.joblib successfully executed'"
      ]
     },
     "execution_count": 17,
     "metadata": {},
     "output_type": "execute_result"
    }
   ],
   "source": [
    "rsvm_path = \"./model_folder/rsvm.joblib\"\n",
    "save_file(best_model, rsvm_path)"
   ]
  }
 ],
 "metadata": {
  "kernelspec": {
   "display_name": "deployment",
   "language": "python",
   "name": "python3"
  },
  "language_info": {
   "codemirror_mode": {
    "name": "ipython",
    "version": 3
   },
   "file_extension": ".py",
   "mimetype": "text/x-python",
   "name": "python",
   "nbconvert_exporter": "python",
   "pygments_lexer": "ipython3",
   "version": "3.12.2"
  }
 },
 "nbformat": 4,
 "nbformat_minor": 2
}
