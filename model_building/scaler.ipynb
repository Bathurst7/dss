{
 "cells": [
  {
   "cell_type": "code",
   "execution_count": null,
   "metadata": {},
   "outputs": [],
   "source": [
    "import pandas as pd\n",
    "import os"
   ]
  },
  {
   "cell_type": "code",
   "execution_count": null,
   "metadata": {},
   "outputs": [],
   "source": [
    "file_path = \"../final_data\"\n",
    "df = pd.read_csv(file_path)"
   ]
  },
  {
   "cell_type": "code",
   "execution_count": 4,
   "metadata": {},
   "outputs": [],
   "source": [
    "def split_data(df, year_split=2022):\n",
    "    \"\"\"\n",
    "    Split the data into training and test sets based on the year column.\n",
    "    \n",
    "    Parameters:\n",
    "    - df: DataFrame containing the full dataset.\n",
    "    - target_column: The name of the target variable column.\n",
    "    - year_split: The year to split on (default is 2022).\n",
    "    \n",
    "    Returns:\n",
    "    - train_data: DataFrame containing the training data.\n",
    "    - test_data: DataFrame containing the test data.\n",
    "    \"\"\"\n",
    "    train_data = df[df['Time'] <= year_split]\n",
    "    test_data = df[df['Time'] > year_split]\n",
    "    \n",
    "    return train_data, test_data"
   ]
  },
  {
   "cell_type": "code",
   "execution_count": 5,
   "metadata": {},
   "outputs": [
    {
     "name": "stdout",
     "output_type": "stream",
     "text": [
      "This is the train data shape: (324, 33)\n",
      "This is the test data shape: (72, 33)\n"
     ]
    }
   ],
   "source": [
    "train_data, test_data = split_data(df)\n",
    "print(f\"This is the train data shape: {train_data.shape}\")\n",
    "print(f\"This is the test data shape: {test_data.shape}\")"
   ]
  },
  {
   "cell_type": "code",
   "execution_count": 6,
   "metadata": {},
   "outputs": [],
   "source": [
    "scaler_df = train_data.drop(['Company name', 'TSR', 'Time'], axis=1)"
   ]
  },
  {
   "cell_type": "code",
   "execution_count": 11,
   "metadata": {},
   "outputs": [],
   "source": [
    "from sklearn.preprocessing import MinMaxScaler\n",
    "\n",
    "def minmax_scaler(df):\n",
    "    scaler = MinMaxScaler()\n",
    "    scaled_object = scaler.fit(df)\n",
    "    scaled_array = scaled_object.transform(df)\n",
    "    columns_name = df.columns\n",
    "    scaled_df = pd.DataFrame(scaled_array, columns=columns_name)\n",
    "    return scaled_df, scaled_object"
   ]
  },
  {
   "cell_type": "code",
   "execution_count": 12,
   "metadata": {},
   "outputs": [],
   "source": [
    "from sklearn.preprocessing import StandardScaler\n",
    "\n",
    "def standard_scaler(df):\n",
    "    scaler = StandardScaler()\n",
    "    scaled_object = scaler.fit(df)\n",
    "    scaled_array = scaled_object.transform(df)\n",
    "    columns_name = df.columns\n",
    "    scaled_df = pd.DataFrame(scaled_array, columns=columns_name)\n",
    "    return scaled_df, scaled_object"
   ]
  },
  {
   "cell_type": "code",
   "execution_count": 14,
   "metadata": {},
   "outputs": [],
   "source": [
    "import joblib\n",
    "def save_file(scaler, filename):\n",
    "  joblib.dump(scaler, filename)\n",
    "  return f\"Saving {filename} successfully executed\""
   ]
  },
  {
   "cell_type": "code",
   "execution_count": 15,
   "metadata": {},
   "outputs": [
    {
     "data": {
      "text/plain": [
       "'Saving ./model_building/scaler_folder/minmax_scaler.joblib successfully executed'"
      ]
     },
     "execution_count": 15,
     "metadata": {},
     "output_type": "execute_result"
    }
   ],
   "source": [
    "# save minmax scaler:\n",
    "minmax_scaled_data, minmax_scaler_object = minmax_scaler(scaler_df)\n",
    "min_max_path = \"./model_building/scaler_folder/minmax_scaler.joblib\"\n",
    "\n",
    "# dumping file:\n",
    "save_file(minmax_scaler_object, min_max_path)"
   ]
  },
  {
   "cell_type": "code",
   "execution_count": 17,
   "metadata": {},
   "outputs": [
    {
     "data": {
      "text/plain": [
       "'Saving ./model_building/scaler_folder/minmax_scaler.joblib successfully executed'"
      ]
     },
     "execution_count": 17,
     "metadata": {},
     "output_type": "execute_result"
    }
   ],
   "source": [
    "# save minmax scaler:\n",
    "standard_scaled_data, standard_scaler_object = minmax_scaler(scaler_df)\n",
    "standard_path = \"./model_building/scaler_folder/minmax_scaler.joblib\"\n",
    "\n",
    "# dumping file:\n",
    "save_file(standard_scaler_object, standard_path)"
   ]
  },
  {
   "cell_type": "code",
   "execution_count": 19,
   "metadata": {},
   "outputs": [
    {
     "name": "stdout",
     "output_type": "stream",
     "text": [
      "minmax_scaled_data's shape: (324, 30)\n",
      "standard_scaled_data's shape: (324, 30)\n"
     ]
    }
   ],
   "source": [
    "print(f\"minmax_scaled_data's shape: {minmax_scaled_data.shape}\")\n",
    "print(f\"standard_scaled_data's shape: {standard_scaled_data.shape}\")"
   ]
  }
 ],
 "metadata": {
  "kernelspec": {
   "display_name": "base",
   "language": "python",
   "name": "python3"
  },
  "language_info": {
   "codemirror_mode": {
    "name": "ipython",
    "version": 3
   },
   "file_extension": ".py",
   "mimetype": "text/x-python",
   "name": "python",
   "nbconvert_exporter": "python",
   "pygments_lexer": "ipython3",
   "version": "3.12.7"
  }
 },
 "nbformat": 4,
 "nbformat_minor": 2
}
